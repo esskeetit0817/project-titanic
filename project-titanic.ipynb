{
 "cells": [
  {
   "cell_type": "markdown",
   "metadata": {},
   "source": [
    "# Project: Titanic\n",
    "\n",
    "## 目录\n",
    "<ul>\n",
    "<li><a href=\"#intro\">提出问题</a></li>\n",
    "<li><a href=\"#wrangling\">调查数据</a></li>\n",
    "<li><a href=\"#eda\">探索与分析</a></li>\n",
    "<li><a href=\"#conclusions\">初步结论</a></li>\n",
    "</ul>"
   ]
  },
  {
   "cell_type": "markdown",
   "metadata": {},
   "source": [
    "<a id='intro'></a>\n",
    "# 1.提出问题\n",
    "\n",
    "> 问题： 有哪些因素会让船上的人生还率更高？\n",
    "\n",
    ">对数据集初步了解，猜测有以下因素：\n",
    "\n",
    ">1.性别\n",
    "\n",
    ">2.年龄\n",
    "\n",
    ">3.舱房等级"
   ]
  },
  {
   "cell_type": "markdown",
   "metadata": {},
   "source": [
    "<a id='wrangling'></a>\n",
    "\n",
    "# 2. 调查数据"
   ]
  },
  {
   "cell_type": "markdown",
   "metadata": {},
   "source": [
    "## 2.1 读取数据源"
   ]
  },
  {
   "cell_type": "code",
   "execution_count": 2,
   "metadata": {},
   "outputs": [
    {
     "name": "stdout",
     "output_type": "stream",
     "text": [
      "Populating the interactive namespace from numpy and matplotlib\n"
     ]
    }
   ],
   "source": [
    "%pylab inline\n",
    "import matplotlib.pyplot as plt\n",
    "import seaborn as sns\n",
    "import pandas as pd\n",
    "import numpy as np\n",
    "\n",
    "titanic_df = pd.read_csv('titanic-data.csv')"
   ]
  },
  {
   "cell_type": "markdown",
   "metadata": {},
   "source": [
    "## 2.2 数据整理\n",
    "### 2.2.1 删除缺失值\n",
    ">在整理数据前，检查数据的完整性"
   ]
  },
  {
   "cell_type": "code",
   "execution_count": 3,
   "metadata": {},
   "outputs": [
    {
     "name": "stdout",
     "output_type": "stream",
     "text": [
      "<class 'pandas.core.frame.DataFrame'>\n",
      "RangeIndex: 891 entries, 0 to 890\n",
      "Data columns (total 12 columns):\n",
      "PassengerId    891 non-null int64\n",
      "Survived       891 non-null int64\n",
      "Pclass         891 non-null int64\n",
      "Name           891 non-null object\n",
      "Sex            891 non-null object\n",
      "Age            714 non-null float64\n",
      "SibSp          891 non-null int64\n",
      "Parch          891 non-null int64\n",
      "Ticket         891 non-null object\n",
      "Fare           891 non-null float64\n",
      "Cabin          204 non-null object\n",
      "Embarked       889 non-null object\n",
      "dtypes: float64(2), int64(5), object(5)\n",
      "memory usage: 66.2+ KB\n"
     ]
    }
   ],
   "source": [
    "titanic_df.info()"
   ]
  },
  {
   "cell_type": "markdown",
   "metadata": {},
   "source": [
    ">本数据中Cabin缺失数据过多，全部不考虑，仅对Age一列进行清理"
   ]
  },
  {
   "cell_type": "code",
   "execution_count": 4,
   "metadata": {},
   "outputs": [
    {
     "name": "stdout",
     "output_type": "stream",
     "text": [
      "<class 'pandas.core.frame.DataFrame'>\n",
      "Int64Index: 714 entries, 0 to 890\n",
      "Data columns (total 12 columns):\n",
      "PassengerId    714 non-null int64\n",
      "Survived       714 non-null int64\n",
      "Pclass         714 non-null int64\n",
      "Name           714 non-null object\n",
      "Sex            714 non-null object\n",
      "Age            714 non-null float64\n",
      "SibSp          714 non-null int64\n",
      "Parch          714 non-null int64\n",
      "Ticket         714 non-null object\n",
      "Fare           714 non-null float64\n",
      "Cabin          185 non-null object\n",
      "Embarked       712 non-null object\n",
      "dtypes: float64(2), int64(5), object(5)\n",
      "memory usage: 58.6+ KB\n"
     ]
    }
   ],
   "source": [
    "titanic_df.dropna(subset=['Age'],inplace=True)\n",
    "titanic_df.info()"
   ]
  },
  {
   "cell_type": "markdown",
   "metadata": {},
   "source": [
    "### 2.2.2 筛选数据\n",
    ">考虑生还率的相关因素，可能是：\n",
    "\n",
    ">1.年龄\n",
    "\n",
    ">2.性别\n",
    "\n",
    ">3.舱房等级"
   ]
  },
  {
   "cell_type": "code",
   "execution_count": 5,
   "metadata": {},
   "outputs": [
    {
     "data": {
      "text/html": [
       "<div>\n",
       "<style scoped>\n",
       "    .dataframe tbody tr th:only-of-type {\n",
       "        vertical-align: middle;\n",
       "    }\n",
       "\n",
       "    .dataframe tbody tr th {\n",
       "        vertical-align: top;\n",
       "    }\n",
       "\n",
       "    .dataframe thead th {\n",
       "        text-align: right;\n",
       "    }\n",
       "</style>\n",
       "<table border=\"1\" class=\"dataframe\">\n",
       "  <thead>\n",
       "    <tr style=\"text-align: right;\">\n",
       "      <th></th>\n",
       "      <th>Survived</th>\n",
       "      <th>Pclass</th>\n",
       "      <th>Sex</th>\n",
       "      <th>Age</th>\n",
       "    </tr>\n",
       "  </thead>\n",
       "  <tbody>\n",
       "    <tr>\n",
       "      <th>0</th>\n",
       "      <td>0</td>\n",
       "      <td>3</td>\n",
       "      <td>male</td>\n",
       "      <td>22.0</td>\n",
       "    </tr>\n",
       "    <tr>\n",
       "      <th>1</th>\n",
       "      <td>1</td>\n",
       "      <td>1</td>\n",
       "      <td>female</td>\n",
       "      <td>38.0</td>\n",
       "    </tr>\n",
       "    <tr>\n",
       "      <th>2</th>\n",
       "      <td>1</td>\n",
       "      <td>3</td>\n",
       "      <td>female</td>\n",
       "      <td>26.0</td>\n",
       "    </tr>\n",
       "    <tr>\n",
       "      <th>3</th>\n",
       "      <td>1</td>\n",
       "      <td>1</td>\n",
       "      <td>female</td>\n",
       "      <td>35.0</td>\n",
       "    </tr>\n",
       "    <tr>\n",
       "      <th>4</th>\n",
       "      <td>0</td>\n",
       "      <td>3</td>\n",
       "      <td>male</td>\n",
       "      <td>35.0</td>\n",
       "    </tr>\n",
       "  </tbody>\n",
       "</table>\n",
       "</div>"
      ],
      "text/plain": [
       "   Survived  Pclass     Sex   Age\n",
       "0         0       3    male  22.0\n",
       "1         1       1  female  38.0\n",
       "2         1       3  female  26.0\n",
       "3         1       1  female  35.0\n",
       "4         0       3    male  35.0"
      ]
     },
     "execution_count": 5,
     "metadata": {},
     "output_type": "execute_result"
    }
   ],
   "source": [
    "titanic_key_factors = titanic_df[['Survived', 'Pclass', 'Sex', 'Age']]\n",
    "titanic_key_factors.head()"
   ]
  },
  {
   "cell_type": "markdown",
   "metadata": {},
   "source": [
    "<a id='eda'></a>\n",
    "# 3.探索与分析\n",
    "\n",
    "> 对上述考虑的三种因素分别进行分析：\n",
    "\n",
    ">1.单因素分析\n",
    "\n",
    ">2.双因素综合分析"
   ]
  },
  {
   "cell_type": "markdown",
   "metadata": {},
   "source": [
    "<a id='intro'></a>\n",
    "## 3.1 单因素分析\n",
    "\n",
    "### 3.1.1 舱房等级"
   ]
  },
  {
   "cell_type": "code",
   "execution_count": 6,
   "metadata": {},
   "outputs": [
    {
     "name": "stdout",
     "output_type": "stream",
     "text": [
      "        Total\n",
      "Pclass       \n",
      "1         186\n",
      "2         173\n",
      "3         355\n",
      " \n",
      "        Survived\n",
      "Pclass          \n",
      "1            122\n",
      "2             83\n",
      "3             85\n",
      " \n",
      "        Survival Rate\n",
      "Pclass               \n",
      "1            0.655914\n",
      "2            0.479769\n",
      "3            0.239437\n"
     ]
    }
   ],
   "source": [
    "titanic_pclass = titanic_key_factors[['Survived', 'Pclass']]\n",
    "groupby_pclass = titanic_pclass.groupby('Pclass') # 按 Pclass 分组\n",
    "total_groupby_pclass = groupby_pclass.count() # 各 Pclass 的总人数\n",
    "survived_groupby_pclass = groupby_pclass.sum() # 各 Pclass 的生还数\n",
    "print total_groupby_pclass.rename(columns={'Survived':'Total'}) \n",
    "print ' '\n",
    "print survived_groupby_pclass\n",
    "print ' '\n",
    "survived_rate_pclass = (survived_groupby_pclass/ total_groupby_pclass).rename(columns={'Survived':'Survival Rate'})\n",
    "print survived_rate_pclass # 各 Pclass 的生还率"
   ]
  },
  {
   "cell_type": "code",
   "execution_count": 7,
   "metadata": {},
   "outputs": [
    {
     "data": {
      "text/plain": [
       "Text(0,0.5,u'Survival Rate')"
      ]
     },
     "execution_count": 7,
     "metadata": {},
     "output_type": "execute_result"
    },
    {
     "data": {
      "image/png": "[encoded data removed]",
      "text/plain": [
       "<matplotlib.figure.Figure at 0xbf57a50>"
      ]
     },
     "metadata": {},
     "output_type": "display_data"
    }
   ],
   "source": [
    "axe_pclass = survived_rate_pclass.plot(kind='bar')\n",
    "axe_pclass.set_title('Pclass VS. Survival Rate')\n",
    "axe_pclass.set_ylabel('Survival Rate')"
   ]
  },
  {
   "cell_type": "markdown",
   "metadata": {},
   "source": [
    ">说明：\n",
    "一般来说，游轮舱房的设置，Pclass=1 的应该在上层， Pclass=2 的在中层， Pclass=3 在底层则按常理推测，生还率会是按顺序递减，即 生还率(Pclass=1) > 生还率(Pclass=2) > 生还率(Pclass=3) \n",
    "从数据结果来看，符合这种递减趋势。可以将舱房等级视为生还的因素之一。"
   ]
  },
  {
   "cell_type": "markdown",
   "metadata": {},
   "source": [
    "### 3.1.2 性别"
   ]
  },
  {
   "cell_type": "code",
   "execution_count": 8,
   "metadata": {},
   "outputs": [
    {
     "name": "stdout",
     "output_type": "stream",
     "text": [
      "        Total\n",
      "Sex          \n",
      "female    261\n",
      "male      453\n",
      " \n",
      "        Survived\n",
      "Sex             \n",
      "female       197\n",
      "male          93\n",
      " \n",
      "        Survival Rate\n",
      "Sex                  \n",
      "female       0.754789\n",
      "male         0.205298\n"
     ]
    }
   ],
   "source": [
    "titanic_sex = titanic_key_factors[['Survived', 'Sex']]\n",
    "groupby_sex = titanic_sex.groupby('Sex') # 按性别分组\n",
    "total_groupby_sex = groupby_sex.count() # 各性别的总数\n",
    "survived_groupby_sex = groupby_sex.sum() # 各性别的生还数\n",
    "\n",
    "print total_groupby_sex.rename(columns={'Survived':'Total'})\n",
    "print ' '\n",
    "print survived_groupby_sex\n",
    "print ' '\n",
    "survive_rate_sex = (survived_groupby_sex / total_groupby_sex).rename(columns={'Survived':'Survival Rate'})\n",
    "print survive_rate_sex  #各性别的生还率"
   ]
  },
  {
   "cell_type": "code",
   "execution_count": 9,
   "metadata": {},
   "outputs": [
    {
     "data": {
      "text/plain": [
       "Text(0,0.5,u'Survival Rate')"
      ]
     },
     "execution_count": 9,
     "metadata": {},
     "output_type": "execute_result"
    },
    {
     "data": {
      "image/png": "[encoded data removed]",
      "text/plain": [
       "<matplotlib.figure.Figure at 0xc166e30>"
      ]
     },
     "metadata": {},
     "output_type": "display_data"
    },
    {
     "data": {
      "image/png": "[encoded data removed]",
      "text/plain": [
       "<matplotlib.figure.Figure at 0xc2607b0>"
      ]
     },
     "metadata": {},
     "output_type": "display_data"
    }
   ],
   "source": [
    "axe1_sex = survived_groupby_sex.plot(kind='bar')  #各性别生还数的柱状图\n",
    "axe1_sex.set_title('Sex VS. Count')\n",
    "axe1_sex.set_ylabel('Count')\n",
    "\n",
    "axe2_sex = survive_rate_sex.plot(kind='bar')   #各性别生还率的柱状图\n",
    "axe2_sex.set_title('Sex VS. Survival Rate')\n",
    "axe2_sex.set_ylabel('Survival Rate')"
   ]
  },
  {
   "cell_type": "markdown",
   "metadata": {},
   "source": [
    ">说明：\n",
    " 女性生还率接近男性生还率的四倍。女性生还数是男性的两倍以上。\n",
    " 按常理推测，男性的强壮性比女性高，生存几率应该较大。出现这种情况，有可能是男性协助女性逃生，或者说将生存机会让给女性。"
   ]
  },
  {
   "cell_type": "markdown",
   "metadata": {},
   "source": [
    "### 3.1.3 年龄"
   ]
  },
  {
   "cell_type": "code",
   "execution_count": 10,
   "metadata": {},
   "outputs": [
    {
     "name": "stdout",
     "output_type": "stream",
     "text": [
      "           Dead\n",
      "age_group      \n",
      "[0, 10)      35\n",
      "[10, 20)     51\n",
      "[20, 30)    100\n",
      "[30, 40)     68\n",
      "[40, 50)     44\n",
      "[50, 60)     21\n",
      "[60, 70)     13\n",
      "[70, 80)      2\n",
      "[80, 90)      1\n",
      "           Survived\n",
      "age_group          \n",
      "[0, 10)          18\n",
      "[10, 20)         31\n",
      "[20, 30)         77\n",
      "[30, 40)         60\n",
      "[40, 50)         25\n",
      "[50, 60)         14\n",
      "[60, 70)          4\n",
      "[70, 80)          3\n"
     ]
    },
    {
     "data": {
      "text/plain": [
       "Text(0,0.5,u'Count')"
      ]
     },
     "execution_count": 10,
     "metadata": {},
     "output_type": "execute_result"
    },
    {
     "data": {
      "image/png": "[encoded data removed]",
      "text/plain": [
       "<matplotlib.figure.Figure at 0xe1479d0>"
      ]
     },
     "metadata": {},
     "output_type": "display_data"
    }
   ],
   "source": [
    "titanic_age = titanic_key_factors[['Survived', 'Age']]\n",
    "\n",
    "def group_age(age, lim): #将年龄数据 age 分组，按照组距 lim 进行\n",
    "    if age == 0:\n",
    "        return 'unknown'\n",
    "    group = int(age) / lim\n",
    "    return ('[%d, %d)') % (group*10, group*10+10)\n",
    "\n",
    "\n",
    "age_group = pd.DataFrame({                                             # 创建年龄分组\n",
    "    'age_group':[group_age(age, 10) for age in titanic_age.Age]\n",
    "})\n",
    "\n",
    "groupby_age = pd.concat([titanic_age['Survived'], age_group], axis=1)\n",
    "dead_groupby_age = groupby_age[groupby_age.Survived==0].groupby('age_group').count() # 按年龄段分组的死亡数\n",
    "survived_groupby_age = groupby_age[groupby_age.Survived==1].groupby('age_group').count() # 按年龄段分组的生还数\n",
    "\n",
    "print dead_groupby_age.rename(columns={'Survived':'Dead'})\n",
    "print survived_groupby_age\n",
    "\n",
    "titanic_age_group_count = pd.concat([dead_groupby_age.rename(columns={'Survived':'Dead'}),survived_groupby_age], axis=1)\n",
    "axe1_age_group = titanic_age_group_count.plot(kind='bar', stacked=True, figsize=(10, 6))\n",
    "axe1_age_group.set_title('Age VS Count')\n",
    "axe1_age_group.set_xlabel('Age Group')\n",
    "axe1_age_group.set_ylabel('Count')"
   ]
  },
  {
   "cell_type": "markdown",
   "metadata": {},
   "source": [
    ">说明： \n",
    "就年龄已知的部分来看，几乎每一组的生还人数都远小于死亡人数。\n",
    "\n",
    ">生还数量并不能很好地说明问题，以下对生还率与年龄的关系进行分析："
   ]
  },
  {
   "cell_type": "code",
   "execution_count": 11,
   "metadata": {},
   "outputs": [
    {
     "name": "stdout",
     "output_type": "stream",
     "text": [
      "           Survived\n",
      "age_group          \n",
      "[0, 10)    0.339623\n",
      "[10, 20)   0.378049\n",
      "[20, 30)   0.435028\n",
      "[30, 40)   0.468750\n",
      "[40, 50)   0.362319\n",
      "[50, 60)   0.400000\n",
      "[60, 70)   0.235294\n",
      "[70, 80)   0.600000\n",
      "[80, 90)   0.000000\n"
     ]
    },
    {
     "data": {
      "text/plain": [
       "Text(0,0.5,u'Survival Rate')"
      ]
     },
     "execution_count": 11,
     "metadata": {},
     "output_type": "execute_result"
    },
    {
     "data": {
      "image/png": "[encoded data removed]",
      "text/plain": [
       "<matplotlib.figure.Figure at 0xc2f3b70>"
      ]
     },
     "metadata": {},
     "output_type": "display_data"
    }
   ],
   "source": [
    "# 直接计算 Survived 的均值，即为生存率\n",
    "survive_rate_groupby_age = groupby_age.groupby('age_group').mean()\n",
    "\n",
    "print survive_rate_groupby_age\n",
    "\n",
    "axe2_age_group = survive_rate_groupby_age.plot(kind='bar')\n",
    "axe2_age_group.set_title('Age VS. Survival Rate')\n",
    "axe2_age_group.set_ylabel('Survival Rate')"
   ]
  },
  {
   "cell_type": "markdown",
   "metadata": {},
   "source": [
    ">说明: \n",
    "\n",
    ">就各年龄段的生存率来说，（70-80）这一组老龄人的生存几率最大（超过50%）。\n",
    ">其它年龄段没有特别明显的差异，均小于50%。最低的是老龄人（60-70），生还率仅有23.53%。"
   ]
  },
  {
   "cell_type": "code",
   "execution_count": 13,
   "metadata": {},
   "outputs": [
    {
     "name": "stdout",
     "output_type": "stream",
     "text": [
      "Survived     0\n",
      "age_group    0\n",
      "dtype: int64\n"
     ]
    },
    {
     "data": {
      "text/plain": [
       "Text(0.5,1,u'Proportion Of Survival Count in Age Group')"
      ]
     },
     "execution_count": 13,
     "metadata": {},
     "output_type": "execute_result"
    },
    {
     "data": {
      "image/png": "[encoded data removed]",
      "text/plain": [
       "<matplotlib.figure.Figure at 0xe34ecb0>"
      ]
     },
     "metadata": {},
     "output_type": "display_data"
    }
   ],
   "source": [
    "num_unknown = groupby_age[groupby_age.age_group=='unknown'].count()  # 年龄未知的人数\n",
    "print num_unknown\n",
    "\n",
    "# 各年龄段的人数占比图\n",
    "num_total = groupby_age.groupby('age_group').count()\n",
    "axe3_age_group = num_total.plot(kind='pie', subplots=True, autopct='%.2f%%', figsize=(8, 8))[0]\n",
    "axe3_age_group.set_title('Proportion Of Survival Count in Age Group')"
   ]
  },
  {
   "cell_type": "markdown",
   "metadata": {},
   "source": [
    ">说明: \n",
    "\n",
    ">由于年龄未知的人数较多（177人，占总体19.87%），对上述生还率与年龄关系的判断可能存在较大影响。"
   ]
  },
  {
   "cell_type": "markdown",
   "metadata": {},
   "source": [
    "<a id='intro'></a>\n",
    "## 3.2 双因素分析\n",
    "\n",
    "### 3.2.1 舱房等级&性别"
   ]
  },
  {
   "cell_type": "code",
   "execution_count": 14,
   "metadata": {},
   "outputs": [
    {
     "data": {
      "text/plain": [
       "Text(0,0.5,u'Survival Rate')"
      ]
     },
     "execution_count": 14,
     "metadata": {},
     "output_type": "execute_result"
    },
    {
     "data": {
      "image/png": "[encoded data removed]",
      "text/plain": [
       "<matplotlib.figure.Figure at 0xe537550>"
      ]
     },
     "metadata": {},
     "output_type": "display_data"
    }
   ],
   "source": [
    "axe_pclass_sex_rate = titanic_key_factors.groupby(['Pclass', 'Sex'])['Survived'].mean().unstack().plot(kind='bar')\n",
    "axe_pclass_sex_rate.set_title('Sex VS. Pclass VS. Survival Rate')\n",
    "axe_pclass_sex_rate.set_ylabel('Survival Rate')"
   ]
  },
  {
   "cell_type": "code",
   "execution_count": 15,
   "metadata": {},
   "outputs": [
    {
     "data": {
      "text/plain": [
       "Text(0,0.5,u'Survival Rate')"
      ]
     },
     "execution_count": 15,
     "metadata": {},
     "output_type": "execute_result"
    },
    {
     "data": {
      "image/png": "[encoded data removed]",
      "text/plain": [
       "<matplotlib.figure.Figure at 0xe5849f0>"
      ]
     },
     "metadata": {},
     "output_type": "display_data"
    }
   ],
   "source": [
    "axe_pclass_sex_num = titanic_key_factors.groupby(['Pclass', 'Sex'])['Survived'].count().unstack().plot(kind='bar')\n",
    "axe_pclass_sex_num.set_title('Sex VS. Pclass VS. Survival Num')\n",
    "axe_pclass_sex_num.set_ylabel('Survival Rate')"
   ]
  },
  {
   "cell_type": "markdown",
   "metadata": {},
   "source": [
    "### >说明： \n",
    "\n",
    ">从上图可以得知，不管是男性还是女性，生还率随着舱房等级的提高而增大。从组内人数来看，3等舱存活的男性却要高于其他组别。"
   ]
  },
  {
   "cell_type": "markdown",
   "metadata": {},
   "source": [
    "### 3.2.2 性别&年龄"
   ]
  },
  {
   "cell_type": "code",
   "execution_count": 16,
   "metadata": {},
   "outputs": [
    {
     "name": "stderr",
     "output_type": "stream",
     "text": [
      "C:\\Anaconda2\\lib\\site-packages\\ipykernel_launcher.py:7: SettingWithCopyWarning: \n",
      "A value is trying to be set on a copy of a slice from a DataFrame.\n",
      "Try using .loc[row_indexer,col_indexer] = value instead\n",
      "\n",
      "See the caveats in the documentation: http://pandas.pydata.org/pandas-docs/stable/indexing.html#indexing-view-versus-copy\n",
      "  import sys\n"
     ]
    },
    {
     "data": {
      "text/plain": [
       "Text(0,0.5,u'Survival Rate')"
      ]
     },
     "execution_count": 16,
     "metadata": {},
     "output_type": "execute_result"
    },
    {
     "data": {
      "image/png": "[encoded data removed]",
      "text/plain": [
       "<matplotlib.figure.Figure at 0xe3e6ab0>"
      ]
     },
     "metadata": {},
     "output_type": "display_data"
    }
   ],
   "source": [
    "# Pandas 的 cut() 方法，用于分组聚集\n",
    "bins = np.arange(0, 80, 10)\n",
    "#titanic_key_factors_new = pd.concat([titanic_key_factors, pd.cut(titanic_df['Age'], bins, right=False)], axis=1)\n",
    "#titanic_key_factors_new\n",
    "\n",
    "age_group_names = ['[0,10)', '[10,20)', '[20,30)', '[30,40)', '[40,50)', '[50,60)', '[60,70)']\n",
    "titanic_key_factors['age_group'] = pd.cut(titanic_df['Age'], bins, labels=age_group_names, right=False)\n",
    "axe_age_sex_rate = titanic_key_factors.groupby(['age_group', 'Sex'])['Survived'].mean().unstack().plot(kind='bar', figsize=(10, 6))\n",
    "axe_age_sex_rate.set_title('Sex VS. Age VS. Survival Rate')\n",
    "axe_age_sex_rate.set_ylabel('Survival Rate')"
   ]
  },
  {
   "cell_type": "code",
   "execution_count": 17,
   "metadata": {},
   "outputs": [
    {
     "data": {
      "text/plain": [
       "Text(0,0.5,u'Survival Num')"
      ]
     },
     "execution_count": 17,
     "metadata": {},
     "output_type": "execute_result"
    },
    {
     "data": {
      "image/png": "[encoded data removed]",
      "text/plain": [
       "<matplotlib.figure.Figure at 0xe778090>"
      ]
     },
     "metadata": {},
     "output_type": "display_data"
    }
   ],
   "source": [
    "axe_age_sex_num = titanic_key_factors.groupby(['age_group', 'Sex'])['Survived'].count().unstack().plot(kind='bar', figsize=(10, 6))\n",
    "axe_age_sex_num.set_title('Sex VS. Age VS. Survival Num')\n",
    "axe_age_sex_num.set_ylabel('Survival Num')"
   ]
  },
  {
   "cell_type": "raw",
   "metadata": {},
   "source": [
    ">从上图可得知：\n",
    ">不论性别，儿童生还率都较高（超过50%）\n",
    "\n",
    ">对于超过10岁的人来说，不论年龄，女性生还率远高于男性\n",
    "\n",
    ">从生还人数来看，每一组都是女性生还率高，但是女性生还人数较男性低，说明这些组中，女性人数较少。"
   ]
  },
  {
   "cell_type": "markdown",
   "metadata": {},
   "source": [
    "### 3.2.2 舱房等级&年龄"
   ]
  },
  {
   "cell_type": "code",
   "execution_count": 18,
   "metadata": {},
   "outputs": [
    {
     "data": {
      "text/plain": [
       "Text(0,0.5,u'Survival Rate')"
      ]
     },
     "execution_count": 18,
     "metadata": {},
     "output_type": "execute_result"
    },
    {
     "data": {
      "image/png": "[encoded data removed]",
      "text/plain": [
       "<matplotlib.figure.Figure at 0xe9b2270>"
      ]
     },
     "metadata": {},
     "output_type": "display_data"
    }
   ],
   "source": [
    "axe_age_pclass_rate = titanic_key_factors.groupby(['age_group', 'Pclass'])['Survived'].mean().unstack().plot(kind='bar', figsize=(10, 6))\n",
    "axe_age_pclass_rate.set_title('Pclass VS. Age VS. Survival Rate')\n",
    "axe_age_pclass_rate.set_ylabel('Survival Rate')"
   ]
  },
  {
   "cell_type": "code",
   "execution_count": 19,
   "metadata": {},
   "outputs": [
    {
     "data": {
      "text/plain": [
       "Text(0,0.5,u'Survival Num')"
      ]
     },
     "execution_count": 19,
     "metadata": {},
     "output_type": "execute_result"
    },
    {
     "data": {
      "image/png": "[encoded data removed]",
      "text/plain": [
       "<matplotlib.figure.Figure at 0xe782990>"
      ]
     },
     "metadata": {},
     "output_type": "display_data"
    }
   ],
   "source": [
    "axe_age_pclass_num = titanic_key_factors.groupby(['age_group', 'Pclass'])['Survived'].count().unstack().plot(kind='bar', figsize=(10, 6))\n",
    "axe_age_pclass_num.set_title('Pclass VS. Age VS. Survival Num')\n",
    "axe_age_pclass_num.set_ylabel('Survival Num')"
   ]
  },
  {
   "cell_type": "markdown",
   "metadata": {},
   "source": [
    ">由上图可得出：\n",
    "\n",
    ">1.总体上来说，生还率随着舱房等级的提高而增大\n",
    ">2.虽然生还率随着舱房等级的提高而增大，但(0,10](10,20](20,30](30,40]这几个年龄段中，3等舱的生还人数高于1等舱的生还人数，这很大可能是因为这几个年龄段中，在1等舱的人数较少。\n",
    "\n",
    ">3.分析年龄两端数据 \n",
    "\n",
    ">无论舱房等级，老年人（60岁以上）的生还率很接近（但生还率均比较低）\n",
    "\n",
    ">对于儿童（10岁以下），Pclass=2的比Pclass=1高，有点偏离规律，下面进一步分析\n"
   ]
  },
  {
   "cell_type": "code",
   "execution_count": 20,
   "metadata": {},
   "outputs": [
    {
     "data": {
      "text/html": [
       "<div>\n",
       "<style scoped>\n",
       "    .dataframe tbody tr th:only-of-type {\n",
       "        vertical-align: middle;\n",
       "    }\n",
       "\n",
       "    .dataframe tbody tr th {\n",
       "        vertical-align: top;\n",
       "    }\n",
       "\n",
       "    .dataframe thead th {\n",
       "        text-align: right;\n",
       "    }\n",
       "</style>\n",
       "<table border=\"1\" class=\"dataframe\">\n",
       "  <thead>\n",
       "    <tr style=\"text-align: right;\">\n",
       "      <th></th>\n",
       "      <th>Survived</th>\n",
       "      <th>Pclass</th>\n",
       "      <th>Sex</th>\n",
       "      <th>Age</th>\n",
       "      <th>age_group</th>\n",
       "    </tr>\n",
       "  </thead>\n",
       "  <tbody>\n",
       "    <tr>\n",
       "      <th>297</th>\n",
       "      <td>0</td>\n",
       "      <td>1</td>\n",
       "      <td>female</td>\n",
       "      <td>2.00</td>\n",
       "      <td>[0,10)</td>\n",
       "    </tr>\n",
       "    <tr>\n",
       "      <th>305</th>\n",
       "      <td>1</td>\n",
       "      <td>1</td>\n",
       "      <td>male</td>\n",
       "      <td>0.92</td>\n",
       "      <td>[0,10)</td>\n",
       "    </tr>\n",
       "    <tr>\n",
       "      <th>445</th>\n",
       "      <td>1</td>\n",
       "      <td>1</td>\n",
       "      <td>male</td>\n",
       "      <td>4.00</td>\n",
       "      <td>[0,10)</td>\n",
       "    </tr>\n",
       "  </tbody>\n",
       "</table>\n",
       "</div>"
      ],
      "text/plain": [
       "     Survived  Pclass     Sex   Age age_group\n",
       "297         0       1  female  2.00    [0,10)\n",
       "305         1       1    male  0.92    [0,10)\n",
       "445         1       1    male  4.00    [0,10)"
      ]
     },
     "execution_count": 20,
     "metadata": {},
     "output_type": "execute_result"
    }
   ],
   "source": [
    "titanic_key_factors[(titanic_key_factors['age_group'] == '[0,10)') & (titanic_key_factors['Pclass'] == 1)]"
   ]
  },
  {
   "cell_type": "code",
   "execution_count": 21,
   "metadata": {},
   "outputs": [
    {
     "data": {
      "text/html": [
       "<div>\n",
       "<style scoped>\n",
       "    .dataframe tbody tr th:only-of-type {\n",
       "        vertical-align: middle;\n",
       "    }\n",
       "\n",
       "    .dataframe tbody tr th {\n",
       "        vertical-align: top;\n",
       "    }\n",
       "\n",
       "    .dataframe thead th {\n",
       "        text-align: right;\n",
       "    }\n",
       "</style>\n",
       "<table border=\"1\" class=\"dataframe\">\n",
       "  <thead>\n",
       "    <tr style=\"text-align: right;\">\n",
       "      <th></th>\n",
       "      <th>Survived</th>\n",
       "      <th>Pclass</th>\n",
       "      <th>Sex</th>\n",
       "      <th>Age</th>\n",
       "      <th>age_group</th>\n",
       "    </tr>\n",
       "  </thead>\n",
       "  <tbody>\n",
       "    <tr>\n",
       "      <th>43</th>\n",
       "      <td>1</td>\n",
       "      <td>2</td>\n",
       "      <td>female</td>\n",
       "      <td>3.00</td>\n",
       "      <td>[0,10)</td>\n",
       "    </tr>\n",
       "    <tr>\n",
       "      <th>58</th>\n",
       "      <td>1</td>\n",
       "      <td>2</td>\n",
       "      <td>female</td>\n",
       "      <td>5.00</td>\n",
       "      <td>[0,10)</td>\n",
       "    </tr>\n",
       "    <tr>\n",
       "      <th>78</th>\n",
       "      <td>1</td>\n",
       "      <td>2</td>\n",
       "      <td>male</td>\n",
       "      <td>0.83</td>\n",
       "      <td>[0,10)</td>\n",
       "    </tr>\n",
       "    <tr>\n",
       "      <th>183</th>\n",
       "      <td>1</td>\n",
       "      <td>2</td>\n",
       "      <td>male</td>\n",
       "      <td>1.00</td>\n",
       "      <td>[0,10)</td>\n",
       "    </tr>\n",
       "    <tr>\n",
       "      <th>193</th>\n",
       "      <td>1</td>\n",
       "      <td>2</td>\n",
       "      <td>male</td>\n",
       "      <td>3.00</td>\n",
       "      <td>[0,10)</td>\n",
       "    </tr>\n",
       "    <tr>\n",
       "      <th>237</th>\n",
       "      <td>1</td>\n",
       "      <td>2</td>\n",
       "      <td>female</td>\n",
       "      <td>8.00</td>\n",
       "      <td>[0,10)</td>\n",
       "    </tr>\n",
       "    <tr>\n",
       "      <th>340</th>\n",
       "      <td>1</td>\n",
       "      <td>2</td>\n",
       "      <td>male</td>\n",
       "      <td>2.00</td>\n",
       "      <td>[0,10)</td>\n",
       "    </tr>\n",
       "    <tr>\n",
       "      <th>407</th>\n",
       "      <td>1</td>\n",
       "      <td>2</td>\n",
       "      <td>male</td>\n",
       "      <td>3.00</td>\n",
       "      <td>[0,10)</td>\n",
       "    </tr>\n",
       "    <tr>\n",
       "      <th>530</th>\n",
       "      <td>1</td>\n",
       "      <td>2</td>\n",
       "      <td>female</td>\n",
       "      <td>2.00</td>\n",
       "      <td>[0,10)</td>\n",
       "    </tr>\n",
       "    <tr>\n",
       "      <th>535</th>\n",
       "      <td>1</td>\n",
       "      <td>2</td>\n",
       "      <td>female</td>\n",
       "      <td>7.00</td>\n",
       "      <td>[0,10)</td>\n",
       "    </tr>\n",
       "    <tr>\n",
       "      <th>549</th>\n",
       "      <td>1</td>\n",
       "      <td>2</td>\n",
       "      <td>male</td>\n",
       "      <td>8.00</td>\n",
       "      <td>[0,10)</td>\n",
       "    </tr>\n",
       "    <tr>\n",
       "      <th>618</th>\n",
       "      <td>1</td>\n",
       "      <td>2</td>\n",
       "      <td>female</td>\n",
       "      <td>4.00</td>\n",
       "      <td>[0,10)</td>\n",
       "    </tr>\n",
       "    <tr>\n",
       "      <th>720</th>\n",
       "      <td>1</td>\n",
       "      <td>2</td>\n",
       "      <td>female</td>\n",
       "      <td>6.00</td>\n",
       "      <td>[0,10)</td>\n",
       "    </tr>\n",
       "    <tr>\n",
       "      <th>750</th>\n",
       "      <td>1</td>\n",
       "      <td>2</td>\n",
       "      <td>female</td>\n",
       "      <td>4.00</td>\n",
       "      <td>[0,10)</td>\n",
       "    </tr>\n",
       "    <tr>\n",
       "      <th>755</th>\n",
       "      <td>1</td>\n",
       "      <td>2</td>\n",
       "      <td>male</td>\n",
       "      <td>0.67</td>\n",
       "      <td>[0,10)</td>\n",
       "    </tr>\n",
       "    <tr>\n",
       "      <th>827</th>\n",
       "      <td>1</td>\n",
       "      <td>2</td>\n",
       "      <td>male</td>\n",
       "      <td>1.00</td>\n",
       "      <td>[0,10)</td>\n",
       "    </tr>\n",
       "    <tr>\n",
       "      <th>831</th>\n",
       "      <td>1</td>\n",
       "      <td>2</td>\n",
       "      <td>male</td>\n",
       "      <td>0.83</td>\n",
       "      <td>[0,10)</td>\n",
       "    </tr>\n",
       "  </tbody>\n",
       "</table>\n",
       "</div>"
      ],
      "text/plain": [
       "     Survived  Pclass     Sex   Age age_group\n",
       "43          1       2  female  3.00    [0,10)\n",
       "58          1       2  female  5.00    [0,10)\n",
       "78          1       2    male  0.83    [0,10)\n",
       "183         1       2    male  1.00    [0,10)\n",
       "193         1       2    male  3.00    [0,10)\n",
       "237         1       2  female  8.00    [0,10)\n",
       "340         1       2    male  2.00    [0,10)\n",
       "407         1       2    male  3.00    [0,10)\n",
       "530         1       2  female  2.00    [0,10)\n",
       "535         1       2  female  7.00    [0,10)\n",
       "549         1       2    male  8.00    [0,10)\n",
       "618         1       2  female  4.00    [0,10)\n",
       "720         1       2  female  6.00    [0,10)\n",
       "750         1       2  female  4.00    [0,10)\n",
       "755         1       2    male  0.67    [0,10)\n",
       "827         1       2    male  1.00    [0,10)\n",
       "831         1       2    male  0.83    [0,10)"
      ]
     },
     "execution_count": 21,
     "metadata": {},
     "output_type": "execute_result"
    }
   ],
   "source": [
    "titanic_key_factors[(titanic_key_factors['age_group'] == '[0,10)') & (titanic_key_factors['Pclass'] == 2)]"
   ]
  },
  {
   "cell_type": "markdown",
   "metadata": {},
   "source": [
    ">从上述表格得知：\n",
    "\n",
    ">1.10岁以下儿童中，Pclass=1只有三位，而其中一位没有生还，从而导致生还率偏低（相对于Pclass=2来说）\n",
    "\n",
    ">2.合理猜测是由于某些意外，这位年龄小的儿童未能生还。\n",
    "\n",
    ">3.上述的第一点结论，还是较符合实际的。"
   ]
  },
  {
   "cell_type": "markdown",
   "metadata": {},
   "source": [
    "<a id='intro'></a>\n",
    "## 3.3 分析小结"
   ]
  },
  {
   "cell_type": "markdown",
   "metadata": {},
   "source": [
    ">从上述分析结果来看，可得出以下几个结论：\n",
    "\n",
    ">1.舱房等级越高，则生还率越高，不论年龄、性别\n",
    "\n",
    ">2.不论年龄、舱房等级，女性生还率最高\n",
    "\n",
    ">3.儿童的还率较高，与性别、舱房等级无关"
   ]
  },
  {
   "cell_type": "markdown",
   "metadata": {},
   "source": [
    "<a id='conclusions'></a>\n",
    "# 4.初步结论\n",
    "\n",
    ">通过对泰坦尼克号上 2224 名乘客和船员中 891 名的人口学数据和乘客基本信息的分析，对于问题“有哪些因素会让船上的人生还率更高？”得出以下初步结论：\n",
    "\n",
    ">1.舱房等级、性别、年龄是影响生还率的因素\n",
    "\n",
    ">2.住高等级舱房的女性，其生还率是最高的；其次则为儿童（与性别、舱房等级无关）\n",
    "\n",
    ">然而，由于不清楚样本是否随机选取、样本量不大，且样本数据中存在信息缺失，初步结论并无法表明这三个因素与“生还率”具有相关性。"
   ]
  },
  {
   "cell_type": "code",
   "execution_count": null,
   "metadata": {},
   "outputs": [],
   "source": []
  }
 ],
 "metadata": {
  "kernelspec": {
   "display_name": "Python 2",
   "language": "python",
   "name": "python2"
  },
  "language_info": {
   "codemirror_mode": {
    "name": "ipython",
    "version": 2
   },
   "file_extension": ".py",
   "mimetype": "text/x-python",
   "name": "python",
   "nbconvert_exporter": "python",
   "pygments_lexer": "ipython2",
   "version": "2.7.14"
  }
 },
 "nbformat": 4,
 "nbformat_minor": 2
}
